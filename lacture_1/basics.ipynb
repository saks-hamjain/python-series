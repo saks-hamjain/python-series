{
 "cells": [
  {
   "cell_type": "code",
   "execution_count": 2,
   "id": "0c270dd5-cf47-4da2-9111-d63dd6b660db",
   "metadata": {},
   "outputs": [],
   "source": [
    "# python is used for web development \n",
    "# software development \n",
    "# maths\n",
    "# system scripting"
   ]
  },
  {
   "cell_type": "code",
   "execution_count": 3,
   "id": "fe630887-fe2c-4191-ac1e-de393a5062a1",
   "metadata": {},
   "outputs": [
    {
     "name": "stdout",
     "output_type": "stream",
     "text": [
      "3.12.1 (main, Mar 17 2025, 17:13:06) [GCC 9.4.0]\n"
     ]
    }
   ],
   "source": [
    "import sys\n",
    "print(sys.version)"
   ]
  },
  {
   "cell_type": "code",
   "execution_count": 5,
   "id": "ca1ebdfa-699a-4bfa-86df-80590def33a6",
   "metadata": {},
   "outputs": [
    {
     "name": "stdout",
     "output_type": "stream",
     "text": [
      "Greater\n"
     ]
    }
   ],
   "source": [
    "if 5 > 2:\n",
    "    print(\"Greater\")\n",
    "    # be careful about the spaces"
   ]
  },
  {
   "cell_type": "code",
   "execution_count": 7,
   "id": "dd7d5006-821a-4f45-9f7d-68bc352d8039",
   "metadata": {},
   "outputs": [
    {
     "data": {
      "text/plain": [
       "'\\nthis is a multiline comment \\n'"
      ]
     },
     "execution_count": 7,
     "metadata": {},
     "output_type": "execute_result"
    }
   ],
   "source": [
    "# single line comment \n",
    "\"\"\"\n",
    "this is a multiline comment \n",
    "\"\"\""
   ]
  },
  {
   "cell_type": "code",
   "execution_count": 10,
   "id": "3674c33a-fe0f-492f-a8e8-39e3c11b39d3",
   "metadata": {},
   "outputs": [
    {
     "name": "stdout",
     "output_type": "stream",
     "text": [
      "50\n",
      "<class 'int'>\n",
      "john\n",
      "<class 'str'>\n",
      "<class 'int'>\n"
     ]
    }
   ],
   "source": [
    "# variables can be created as you assign value to it \n",
    "x =50\n",
    "y = \"john\"\n",
    "print(x)\n",
    "print(type(x))\n",
    "print(y)\n",
    "z = \"100\"\n",
    "print(type(z))\n",
    "z = int(z)\n",
    "print(type(z))\n"
   ]
  },
  {
   "cell_type": "code",
   "execution_count": 11,
   "id": "ce5a99b9-00e5-4247-b525-d1df98850839",
   "metadata": {},
   "outputs": [
    {
     "name": "stdout",
     "output_type": "stream",
     "text": [
      "10 12 13\n"
     ]
    }
   ],
   "source": [
    "# assigning multiple values to multiple variables\n",
    "x ,y,z = 10,12,13\n",
    "print(x,y,z)"
   ]
  },
  {
   "cell_type": "code",
   "execution_count": 12,
   "id": "5d22c7d6-a565-4f31-97a4-1ab0aefec028",
   "metadata": {},
   "outputs": [
    {
     "name": "stdout",
     "output_type": "stream",
     "text": [
      "Python is fantastic\n"
     ]
    }
   ],
   "source": [
    "x = \"awesome\"\n",
    "\n",
    "def myfunc():\n",
    "  global x\n",
    "  x = \"fantastic\"\n",
    "\n",
    "myfunc()\n",
    "\n",
    "print(\"Python is \" + x)"
   ]
  },
  {
   "cell_type": "code",
   "execution_count": 14,
   "id": "a5a656dc-a545-4fb9-9062-3c963904d455",
   "metadata": {},
   "outputs": [
    {
     "name": "stdout",
     "output_type": "stream",
     "text": [
      "h\n"
     ]
    }
   ],
   "source": [
    "# string are arrays in python \n",
    "#python do not have character data type \n",
    "a = \"hello bhai\"\n",
    "print(a[7])"
   ]
  },
  {
   "cell_type": "code",
   "execution_count": 15,
   "id": "7a717705-74e8-46d6-a7b3-67ebd6a05577",
   "metadata": {},
   "outputs": [
    {
     "name": "stdout",
     "output_type": "stream",
     "text": [
      "10\n"
     ]
    }
   ],
   "source": [
    "#length of a string \n",
    "print(len(a))"
   ]
  },
  {
   "cell_type": "code",
   "execution_count": 18,
   "id": "842618f3-538b-4b08-92eb-120ceb01aa6c",
   "metadata": {},
   "outputs": [
    {
     "name": "stdout",
     "output_type": "stream",
     "text": [
      "present\n"
     ]
    }
   ],
   "source": [
    "txt = \"my name is saksham jain\"\n",
    "if \"my\" in txt:\n",
    "    print(\"present\")\n",
    "if \"my\" not in txt:\n",
    "    print(\"not present\")"
   ]
  },
  {
   "cell_type": "code",
   "execution_count": 19,
   "id": "4a204afc-8cd1-4325-a3b8-45a2b05920fe",
   "metadata": {},
   "outputs": [
    {
     "name": "stdout",
     "output_type": "stream",
     "text": [
      "w this i\n"
     ]
    }
   ],
   "source": [
    "# slicing of sting\n",
    "txt = \"now this is test example\"\n",
    "print(txt[2:10])"
   ]
  },
  {
   "cell_type": "code",
   "execution_count": 20,
   "id": "2de75dd4-2ea8-4910-a9ae-aedf6eeb5410",
   "metadata": {},
   "outputs": [
    {
     "name": "stdout",
     "output_type": "stream",
     "text": [
      "orl\n"
     ]
    }
   ],
   "source": [
    "b = \"Hello, World!\"\n",
    "print(b[-5:-2])\n"
   ]
  },
  {
   "cell_type": "code",
   "execution_count": 23,
   "id": "08a7cd7c-c5ba-499d-9edc-648a0181b189",
   "metadata": {},
   "outputs": [
    {
     "name": "stdout",
     "output_type": "stream",
     "text": [
      "PRACTICE ARENA\n",
      "practice arena\n"
     ]
    }
   ],
   "source": [
    "#uppercase of string\n",
    "xyz = \"practice arena\"\n",
    "print(xyz.upper())\n",
    "print(xyz)\n",
    "# same as lowercase "
   ]
  },
  {
   "cell_type": "code",
   "execution_count": 25,
   "id": "372f4501-5b93-4ac9-863d-1aeccbfb28b1",
   "metadata": {},
   "outputs": [
    {
     "name": "stdout",
     "output_type": "stream",
     "text": [
      "tanish Diwedi\n",
      "  tanish Diwedi \n"
     ]
    }
   ],
   "source": [
    "#remove whitespace\n",
    "a = \"  tanish Diwedi \"\n",
    "print(a.strip())\n",
    "print(a)"
   ]
  },
  {
   "cell_type": "code",
   "execution_count": 29,
   "id": "7c6a0a96-6fe9-483e-87f5-42ec6b148c1d",
   "metadata": {},
   "outputs": [
    {
     "name": "stdout",
     "output_type": "stream",
     "text": [
      "just be formal\n",
      "just be formad\n",
      "a text contain more a as a text\n"
     ]
    }
   ],
   "source": [
    "#replace the character and string \n",
    "char = \"just be formad\"\n",
    "print(char.replace('d','l'))\n",
    "print(char)\n",
    "txt = \"the text contain more the as the text\"\n",
    "print(txt.replace('the','a'))"
   ]
  },
  {
   "cell_type": "code",
   "execution_count": 31,
   "id": "2a63f5b2-3c3b-4f63-8a9b-345f60fcd3d3",
   "metadata": {},
   "outputs": [
    {
     "name": "stdout",
     "output_type": "stream",
     "text": [
      "['this', 'is', 'by', 'default', 'list']\n",
      "this is by default list\n"
     ]
    }
   ],
   "source": [
    "#split function\n",
    "a = \"this is by default list\"\n",
    "print(a.split())\n",
    "print(a)"
   ]
  },
  {
   "cell_type": "code",
   "execution_count": null,
   "id": "bb5d0dfa-e3bd-4653-b077-9975eb34758e",
   "metadata": {},
   "outputs": [],
   "source": [
    "# string format \n",
    "x= 20\n",
    "print(f\"i guess your age is {age}\")"
   ]
  }
 ],
 "metadata": {
  "kernelspec": {
   "display_name": "Python 3 (ipykernel)",
   "language": "python",
   "name": "python3"
  },
  "language_info": {
   "codemirror_mode": {
    "name": "ipython",
    "version": 3
   },
   "file_extension": ".py",
   "mimetype": "text/x-python",
   "name": "python",
   "nbconvert_exporter": "python",
   "pygments_lexer": "ipython3",
   "version": "3.12.1"
  }
 },
 "nbformat": 4,
 "nbformat_minor": 5
}
