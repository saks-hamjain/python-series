{
 "cells": [
  {
   "cell_type": "code",
   "execution_count": 2,
   "id": "52fe06c9-f828-40ba-bf8c-4ecf88d86de0",
   "metadata": {},
   "outputs": [],
   "source": [
    "# tuple are unchangeable but ordered collection in python\n",
    "# written with () brackets\n",
    "# allow duplicates "
   ]
  },
  {
   "cell_type": "code",
   "execution_count": 4,
   "id": "f6a93914-bf20-4ca3-bcbb-b051cb6cd2cb",
   "metadata": {},
   "outputs": [
    {
     "name": "stdout",
     "output_type": "stream",
     "text": [
      "(1, 2, 3, 4, 5, 6)\n",
      "6\n"
     ]
    }
   ],
   "source": [
    "tup  = (1,2,3,4,5,6)\n",
    "print(tup)\n",
    "print(len(tup))"
   ]
  },
  {
   "cell_type": "code",
   "execution_count": 5,
   "id": "6ce8ea1b-d0e0-450e-b643-4607f5d44754",
   "metadata": {},
   "outputs": [],
   "source": [
    "tuple1 = (\"apple\", \"banana\", \"cherry\")\n",
    "tuple2 = (1, 5, 7, 9, 3)\n",
    "tuple3 = (True, False, False)"
   ]
  },
  {
   "cell_type": "code",
   "execution_count": 6,
   "id": "26c2b6b9-0889-4764-a30c-8ea1ff771d6a",
   "metadata": {},
   "outputs": [
    {
     "name": "stdout",
     "output_type": "stream",
     "text": [
      "Yes, 'apple' is in the fruits tuple\n"
     ]
    }
   ],
   "source": [
    "thistuple = (\"apple\", \"banana\", \"cherry\")\n",
    "if \"apple\" in thistuple:\n",
    "  print(\"Yes, 'apple' is in the fruits tuple\")"
   ]
  },
  {
   "cell_type": "code",
   "execution_count": 5,
   "id": "940ad8ad-9624-4844-97bc-a36f6e2bde2f",
   "metadata": {},
   "outputs": [],
   "source": [
    "#sets are used to store \n",
    "# sets are unordered and unchangeable \n",
    "#written in curly brackets\n",
    "# duplicate are not allowed\n",
    "# you cannot change but add and remove elements\n"
   ]
  },
  {
   "cell_type": "code",
   "execution_count": 9,
   "id": "abb5d1a2-609f-492e-8252-e2f4178f6335",
   "metadata": {},
   "outputs": [
    {
     "name": "stdout",
     "output_type": "stream",
     "text": [
      "<class 'set'>\n",
      "{0, 1, 2, 3, 4, 5, 6}\n",
      "7\n",
      "True\n"
     ]
    }
   ],
   "source": [
    "s = {0,1,2,3,4,5,6,6}\n",
    "print(type(s))\n",
    "print(s)\n",
    "print(len(s))\n",
    "print(6 in s)"
   ]
  },
  {
   "cell_type": "code",
   "execution_count": 11,
   "id": "5637f9f7-8aad-49e0-9f02-2f730889e5b7",
   "metadata": {},
   "outputs": [
    {
     "name": "stdout",
     "output_type": "stream",
     "text": [
      "{'orange', 5, 6, 'apple', 9, 'kiwi'}\n"
     ]
    }
   ],
   "source": [
    "# add element in set \n",
    "thisset = {'apple','kiwi',5 ,6, 9}\n",
    "thisset.add('orange')\n",
    "print(thisset)"
   ]
  },
  {
   "cell_type": "code",
   "execution_count": 12,
   "id": "992710e9-ed19-4c11-8397-428fa8972602",
   "metadata": {},
   "outputs": [
    {
     "name": "stdout",
     "output_type": "stream",
     "text": [
      "{'papaya', 'mango', 'cherry', 'banana', 'pineapple', 'apple'}\n"
     ]
    }
   ],
   "source": [
    "thisset = {\"apple\", \"banana\", \"cherry\"}\n",
    "tropical = {\"pineapple\", \"mango\", \"papaya\"}\n",
    "\n",
    "thisset.update(tropical)\n",
    "\n",
    "print(thisset)\n"
   ]
  },
  {
   "cell_type": "code",
   "execution_count": 13,
   "id": "96431f61-df44-4667-acd6-b8863384c85a",
   "metadata": {},
   "outputs": [
    {
     "name": "stdout",
     "output_type": "stream",
     "text": [
      "{'orange', 'kiwi', 'cherry', 'banana', 'apple'}\n"
     ]
    }
   ],
   "source": [
    "thisset = {\"apple\", \"banana\", \"cherry\"}\n",
    "mylist = [\"kiwi\", \"orange\"]\n",
    "\n",
    "thisset.update(mylist)\n",
    "\n",
    "print(thisset)"
   ]
  },
  {
   "cell_type": "code",
   "execution_count": 14,
   "id": "688446f6-def7-4036-9ed6-1439c43710ba",
   "metadata": {},
   "outputs": [
    {
     "name": "stdout",
     "output_type": "stream",
     "text": [
      "{'apple', 'cherry'}\n"
     ]
    }
   ],
   "source": [
    "thisset = {\"apple\", \"banana\", \"cherry\"}\n",
    "\n",
    "thisset.remove(\"banana\")\n",
    "\n",
    "print(thisset)\n"
   ]
  },
  {
   "cell_type": "code",
   "execution_count": 15,
   "id": "ce79f29d-e91f-47dd-891a-277222831c7b",
   "metadata": {},
   "outputs": [
    {
     "name": "stdout",
     "output_type": "stream",
     "text": [
      "{'brand': 'Ford', 'year': 1964}\n"
     ]
    }
   ],
   "source": [
    "thisdict = {\n",
    "  \"brand\": \"Ford\",\n",
    "  \"model\": \"Mustang\",\n",
    "  \"year\": 1964\n",
    "}\n",
    "thisdict.pop(\"model\")\n",
    "print(thisdict)\n"
   ]
  },
  {
   "cell_type": "code",
   "execution_count": null,
   "id": "ac5b7fda-2350-4c7c-a642-a8673331d1da",
   "metadata": {},
   "outputs": [],
   "source": []
  }
 ],
 "metadata": {
  "kernelspec": {
   "display_name": "Python 3 (ipykernel)",
   "language": "python",
   "name": "python3"
  },
  "language_info": {
   "codemirror_mode": {
    "name": "ipython",
    "version": 3
   },
   "file_extension": ".py",
   "mimetype": "text/x-python",
   "name": "python",
   "nbconvert_exporter": "python",
   "pygments_lexer": "ipython3",
   "version": "3.12.1"
  }
 },
 "nbformat": 4,
 "nbformat_minor": 5
}
