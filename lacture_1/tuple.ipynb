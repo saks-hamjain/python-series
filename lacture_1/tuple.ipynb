{
 "cells": [
  {
   "cell_type": "code",
   "execution_count": 2,
   "id": "52fe06c9-f828-40ba-bf8c-4ecf88d86de0",
   "metadata": {},
   "outputs": [],
   "source": [
    "# tuple are unchangeable but ordered collection in python\n",
    "# written with () brackets\n",
    "# allow duplicates "
   ]
  },
  {
   "cell_type": "code",
   "execution_count": 4,
   "id": "f6a93914-bf20-4ca3-bcbb-b051cb6cd2cb",
   "metadata": {},
   "outputs": [
    {
     "name": "stdout",
     "output_type": "stream",
     "text": [
      "(1, 2, 3, 4, 5, 6)\n",
      "6\n"
     ]
    }
   ],
   "source": [
    "tup  = (1,2,3,4,5,6)\n",
    "print(tup)\n",
    "print(len(tup))"
   ]
  },
  {
   "cell_type": "code",
   "execution_count": 5,
   "id": "6ce8ea1b-d0e0-450e-b643-4607f5d44754",
   "metadata": {},
   "outputs": [],
   "source": [
    "tuple1 = (\"apple\", \"banana\", \"cherry\")\n",
    "tuple2 = (1, 5, 7, 9, 3)\n",
    "tuple3 = (True, False, False)"
   ]
  },
  {
   "cell_type": "code",
   "execution_count": 6,
   "id": "26c2b6b9-0889-4764-a30c-8ea1ff771d6a",
   "metadata": {},
   "outputs": [
    {
     "name": "stdout",
     "output_type": "stream",
     "text": [
      "Yes, 'apple' is in the fruits tuple\n"
     ]
    }
   ],
   "source": [
    "thistuple = (\"apple\", \"banana\", \"cherry\")\n",
    "if \"apple\" in thistuple:\n",
    "  print(\"Yes, 'apple' is in the fruits tuple\")"
   ]
  },
  {
   "cell_type": "code",
   "execution_count": null,
   "id": "940ad8ad-9624-4844-97bc-a36f6e2bde2f",
   "metadata": {},
   "outputs": [],
   "source": []
  }
 ],
 "metadata": {
  "kernelspec": {
   "display_name": "Python 3 (ipykernel)",
   "language": "python",
   "name": "python3"
  },
  "language_info": {
   "codemirror_mode": {
    "name": "ipython",
    "version": 3
   },
   "file_extension": ".py",
   "mimetype": "text/x-python",
   "name": "python",
   "nbconvert_exporter": "python",
   "pygments_lexer": "ipython3",
   "version": "3.12.1"
  }
 },
 "nbformat": 4,
 "nbformat_minor": 5
}
