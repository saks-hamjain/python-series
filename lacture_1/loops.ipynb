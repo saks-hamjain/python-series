{
 "cells": [
  {
   "cell_type": "code",
   "execution_count": 1,
   "id": "2d0a2f66-df25-44f2-b95a-418180c2d481",
   "metadata": {},
   "outputs": [],
   "source": [
    "#python has two loops\n",
    "# for\n",
    "# while"
   ]
  },
  {
   "cell_type": "code",
   "execution_count": 2,
   "id": "c2139e0e-b5b3-41cd-98dc-ccb5d582f04f",
   "metadata": {},
   "outputs": [
    {
     "name": "stdout",
     "output_type": "stream",
     "text": [
      "1\n",
      "2\n",
      "3\n",
      "4\n",
      "5\n"
     ]
    }
   ],
   "source": [
    "i = 1\n",
    "while i<6:\n",
    "    print(i)\n",
    "    i += 1"
   ]
  },
  {
   "cell_type": "code",
   "execution_count": 4,
   "id": "427cc209-6720-4a11-91d1-c17ad19e5172",
   "metadata": {},
   "outputs": [
    {
     "name": "stdout",
     "output_type": "stream",
     "text": [
      "1\n",
      "2\n"
     ]
    }
   ],
   "source": [
    "i = 1\n",
    "while i<6:\n",
    "    if i == 3:\n",
    "        break\n",
    "    print(i)\n",
    "    i += 1\n",
    "# break is used to terminate the loop "
   ]
  },
  {
   "cell_type": "code",
   "execution_count": null,
   "id": "bea5dbeb-0c26-47a8-8942-9cc4ab32f1ff",
   "metadata": {},
   "outputs": [],
   "source": [
    "#continue will skip the current iteration can continue with next iteration\n",
    "# break is used to terminate the loop \n"
   ]
  },
  {
   "cell_type": "code",
   "execution_count": null,
   "id": "0c3f9bf2-b3cb-4767-b93c-f57ff287ced6",
   "metadata": {},
   "outputs": [],
   "source": [
    "i = 1\n",
    "while i<6:\n",
    "    if i == 3:\n",
    "        i += 1\n",
    "        break\n",
    "    print(i)\n",
    "    i += 1"
   ]
  }
 ],
 "metadata": {
  "kernelspec": {
   "display_name": "Python 3 (ipykernel)",
   "language": "python",
   "name": "python3"
  },
  "language_info": {
   "codemirror_mode": {
    "name": "ipython",
    "version": 3
   },
   "file_extension": ".py",
   "mimetype": "text/x-python",
   "name": "python",
   "nbconvert_exporter": "python",
   "pygments_lexer": "ipython3",
   "version": "3.12.1"
  }
 },
 "nbformat": 4,
 "nbformat_minor": 5
}
