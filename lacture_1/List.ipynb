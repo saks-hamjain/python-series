{
 "cells": [
  {
   "cell_type": "code",
   "execution_count": 2,
   "id": "36faa680-814b-46d7-8563-0ca08cb30c8a",
   "metadata": {},
   "outputs": [],
   "source": [
    "# Lists store multiple item in a single unit and different datatype can be stored in a single list\n",
    "# list is ordered, changeable, and allow duplicate "
   ]
  },
  {
   "cell_type": "code",
   "execution_count": 6,
   "id": "ef8c799d-2b07-4283-8036-30d6dafef295",
   "metadata": {},
   "outputs": [
    {
     "name": "stdout",
     "output_type": "stream",
     "text": [
      "[1, 2, 3, 4, 'Name', True]\n",
      "<class 'list'>\n"
     ]
    }
   ],
   "source": [
    "li = [1,2,3,4,\"Name\",True]\n",
    "print(li)\n",
    "# type of list \n",
    "print(type(li))"
   ]
  },
  {
   "cell_type": "code",
   "execution_count": 5,
   "id": "8a08e328-89c8-4559-8fb4-d7ce9ab5d9dc",
   "metadata": {},
   "outputs": [
    {
     "name": "stdout",
     "output_type": "stream",
     "text": [
      "<class 'list'>\n"
     ]
    }
   ],
   "source": []
  },
  {
   "cell_type": "code",
   "execution_count": null,
   "id": "ab48309e-4b2e-48e0-b6c3-d30d65863757",
   "metadata": {},
   "outputs": [],
   "source": []
  }
 ],
 "metadata": {
  "kernelspec": {
   "display_name": "Python 3 (ipykernel)",
   "language": "python",
   "name": "python3"
  },
  "language_info": {
   "codemirror_mode": {
    "name": "ipython",
    "version": 3
   },
   "file_extension": ".py",
   "mimetype": "text/x-python",
   "name": "python",
   "nbconvert_exporter": "python",
   "pygments_lexer": "ipython3",
   "version": "3.12.1"
  }
 },
 "nbformat": 4,
 "nbformat_minor": 5
}
