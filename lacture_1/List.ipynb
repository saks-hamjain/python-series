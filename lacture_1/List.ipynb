{
 "cells": [
  {
   "cell_type": "code",
   "execution_count": 2,
   "id": "36faa680-814b-46d7-8563-0ca08cb30c8a",
   "metadata": {},
   "outputs": [],
   "source": [
    "# Lists store multiple item in a single unit and different datatype can be stored in a single list\n",
    "# list is ordered, changeable, and allow duplicate "
   ]
  },
  {
   "cell_type": "code",
   "execution_count": 6,
   "id": "ef8c799d-2b07-4283-8036-30d6dafef295",
   "metadata": {},
   "outputs": [
    {
     "name": "stdout",
     "output_type": "stream",
     "text": [
      "[1, 2, 3, 4, 'Name', True]\n",
      "<class 'list'>\n"
     ]
    }
   ],
   "source": [
    "li = [1,2,3,4,\"Name\",True]\n",
    "print(li)\n",
    "# type of list \n",
    "print(type(li))"
   ]
  },
  {
   "cell_type": "code",
   "execution_count": 11,
   "id": "8a08e328-89c8-4559-8fb4-d7ce9ab5d9dc",
   "metadata": {},
   "outputs": [
    {
     "name": "stdout",
     "output_type": "stream",
     "text": [
      "[1, 2, 3, 4]\n",
      "[5, 6, 7, 8, 9]\n",
      "[1, 2, 3, 4, 5, 6, 7, 8, 9]\n"
     ]
    }
   ],
   "source": [
    "#add the element \n",
    "first = [1,2,4]\n",
    "first.insert(2,3)\n",
    "print(first)\n",
    "second = [5,6,7,8]\n",
    "second.append(9)\n",
    "print(second)\n",
    "\n",
    "first.extend(second)\n",
    "print(first)"
   ]
  },
  {
   "cell_type": "code",
   "execution_count": 12,
   "id": "ab48309e-4b2e-48e0-b6c3-d30d65863757",
   "metadata": {},
   "outputs": [
    {
     "name": "stdout",
     "output_type": "stream",
     "text": [
      "[1, 2, 3, 4, 6, 7, 8, 9]\n",
      "[1, 2, 3, 4, 6, 7, 9]\n",
      "[1, 2, 4, 6, 7, 9]\n"
     ]
    }
   ],
   "source": [
    "# remove element\n",
    "first.remove(5)\n",
    "print(first)\n",
    "del first[6]\n",
    "print(first)\n",
    "first.pop(2)\n",
    "print(first)"
   ]
  },
  {
   "cell_type": "code",
   "execution_count": 16,
   "id": "2e4d3ef4-3eea-4c8c-b02b-36cd55237068",
   "metadata": {},
   "outputs": [
    {
     "name": "stdout",
     "output_type": "stream",
     "text": [
      "1 2 4 6 7 9 1\n",
      "2\n",
      "4\n",
      "6\n",
      "7\n",
      "9\n"
     ]
    },
    {
     "data": {
      "text/plain": [
       "[None, None, None, None, None, None]"
      ]
     },
     "execution_count": 16,
     "metadata": {},
     "output_type": "execute_result"
    }
   ],
   "source": [
    "for i in first:\n",
    "    print(i,end =\" \")\n",
    "#list compreension\n",
    "[print(x) for x in first]"
   ]
  },
  {
   "cell_type": "code",
   "execution_count": 17,
   "id": "75223ddd-cf44-4af3-bdc1-ff0e5db15306",
   "metadata": {},
   "outputs": [
    {
     "name": "stdout",
     "output_type": "stream",
     "text": [
      "[2, 3, 5, 6, 9, 19, 36, 45, 50, 76, 91, 96]\n"
     ]
    }
   ],
   "source": [
    "li = [50,96,36,45,76,91,2,5,6,9,19,3]\n",
    "li.sort()\n",
    "print(li)"
   ]
  },
  {
   "cell_type": "code",
   "execution_count": 18,
   "id": "d9bdabb9-1ccb-442e-ad7b-f4e6eb70646e",
   "metadata": {},
   "outputs": [
    {
     "name": "stdout",
     "output_type": "stream",
     "text": [
      "[96, 91, 76, 50, 45, 36, 19, 9, 6, 5, 3, 2]\n"
     ]
    }
   ],
   "source": [
    "li.sort(reverse = True)\n",
    "print(li)"
   ]
  },
  {
   "cell_type": "code",
   "execution_count": 21,
   "id": "55f02e4e-4bb8-49e7-b15c-2d906f1b3251",
   "metadata": {},
   "outputs": [
    {
     "name": "stdout",
     "output_type": "stream",
     "text": [
      "[50, 45, 36, 76, 19, 9, 91, 6, 5, 96, 3, 2]\n",
      "[2, 3, 96, 5, 6, 91, 9, 19, 76, 36, 45, 50]\n"
     ]
    }
   ],
   "source": [
    "def fun(x):\n",
    "    return abs(x-50)\n",
    "li.sort(key = fun)\n",
    "print(li)\n",
    "li.reverse()\n",
    "print(li)"
   ]
  },
  {
   "cell_type": "code",
   "execution_count": 22,
   "id": "d027c8fe-39d5-4c21-a3b5-0c1d68fc638c",
   "metadata": {},
   "outputs": [
    {
     "name": "stdout",
     "output_type": "stream",
     "text": [
      "[2, 3, 96, 5, 6, 91, 9, 19, 76, 36, 45, 50]\n"
     ]
    }
   ],
   "source": [
    "li_copy = li.copy()\n",
    "print(li_copy)"
   ]
  },
  {
   "cell_type": "code",
   "execution_count": null,
   "id": "e38e90dc-2f1b-4304-966f-609d4467bff8",
   "metadata": {},
   "outputs": [],
   "source": []
  }
 ],
 "metadata": {
  "kernelspec": {
   "display_name": "Python 3 (ipykernel)",
   "language": "python",
   "name": "python3"
  },
  "language_info": {
   "codemirror_mode": {
    "name": "ipython",
    "version": 3
   },
   "file_extension": ".py",
   "mimetype": "text/x-python",
   "name": "python",
   "nbconvert_exporter": "python",
   "pygments_lexer": "ipython3",
   "version": "3.12.1"
  }
 },
 "nbformat": 4,
 "nbformat_minor": 5
}
